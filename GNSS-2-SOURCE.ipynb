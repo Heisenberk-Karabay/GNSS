{
 "cells": [
  {
   "cell_type": "code",
   "execution_count": 4,
   "metadata": {},
   "outputs": [],
   "source": [
    "import pandas as pd\n",
    "pd.options.mode.chained_assignment = None\n",
    "from io import StringIO\n",
    "import numpy as np\n",
    "import math"
   ]
  },
  {
   "cell_type": "code",
   "execution_count": 5,
   "metadata": {},
   "outputs": [],
   "source": [
    "G06 = StringIO('''\n",
    "10 45 0.00000000 ,577.445165\n",
    "10 30 0.00000000 ,577.441900\n",
    "10 15 0.00000000 ,577.438634\n",
    "10 0 0.00000000 , 577.435389\n",
    "9 45 0.00000000 , 577.432105\n",
    "9 30 0.00000000 , 577.428825\n",
    "9 15 0.00000000 , 577.425556\n",
    "9 0 0.00000000 ,  577.422289\n",
    "8 45 0.00000000 , 577.419003\n",
    "8 30 0.00000000 , 577.415707''')"
   ]
  },
  {
   "cell_type": "code",
   "execution_count": 6,
   "metadata": {},
   "outputs": [],
   "source": [
    "G11 = StringIO('''\n",
    "10 45 0.00000000 ,-117.548696\n",
    "10 30 0.00000000 ,-117.538965\n",
    "10 15 0.00000000 ,-117.529230\n",
    "10 0 0.00000000 , -117.519503\n",
    "9 45 0.00000000 , -117.509796\n",
    "9 30 0.00000000 , -117.500047\n",
    "9 15 0.00000000 , -117.490327\n",
    "9 0 0.00000000 ,  -117.480625\n",
    "8 45 0.00000000 , -117.470932\n",
    "8 30 0.00000000 , -117.461205''')"
   ]
  },
  {
   "cell_type": "code",
   "execution_count": 7,
   "metadata": {},
   "outputs": [],
   "source": [
    "t_reception_rcv = (2+1+9+6+7+6+1+3)*960\n",
    "pseudorange_g06 = 22973727.891\n",
    "pseudorange_g011 = 24719415.575\n",
    "C = 299792458\n",
    "wE =7.2921151467*(10**-5)"
   ]
  },
  {
   "cell_type": "code",
   "execution_count": 8,
   "metadata": {},
   "outputs": [],
   "source": [
    "def emist(trec, pc, clk):\n",
    " \n",
    "    df = pd.read_csv(clk, sep =\",\", names=['epoch','correction'])\n",
    "\n",
    "    def convert_to_daysec(data,item):\n",
    "\n",
    "        hour = float(data['epoch'][item].split(sep=' ')[0]) * 60 *60\n",
    "        minute = float(data['epoch'][item].split(sep=' ')[1]) * 60 \n",
    "        second = float(data['epoch'][item].split(sep=' ')[2])\n",
    "\n",
    "        return hour + minute + second\n",
    "    \n",
    "    try: \n",
    "        for item in range(len(df)):\n",
    "            df['epoch'][item] = convert_to_daysec(df,item)\n",
    "\n",
    "    except : AttributeError\n",
    "\n",
    "    def lagrange_interp(x, y, xi):\n",
    "\n",
    "        n = len(x)\n",
    "        w = np.zeros(n)\n",
    "        yi = 0.0\n",
    "\n",
    "        for i in range(n):\n",
    "            w[i] = np.prod([(xi - x[j])/(x[i] - x[j]) for j in range(n) if j != i])\n",
    "            yi += w[i]*y[i]\n",
    "\n",
    "        return yi\n",
    "    \n",
    "    gps_lagrange = lagrange_interp(df['epoch'],df['correction'],trec)\n",
    "\n",
    "    T_emission = trec - (pc / C) - (gps_lagrange*(10**-6)) # gps_lagrange is in microseconds !\n",
    "\n",
    "    return(T_emission)\n",
    "    print(T_emission)\n"
   ]
  },
  {
   "cell_type": "code",
   "execution_count": 13,
   "metadata": {},
   "outputs": [],
   "source": [
    "emist_06 = emist(t_reception_rcv,pseudorange_g06,G06) "
   ]
  },
  {
   "cell_type": "code",
   "execution_count": 14,
   "metadata": {},
   "outputs": [],
   "source": [
    "emist_11 =emist(t_reception_rcv,pseudorange_g011,G11)"
   ]
  },
  {
   "cell_type": "code",
   "execution_count": 16,
   "metadata": {},
   "outputs": [],
   "source": [
    "G06_t_x_y_z_correct = StringIO('''\n",
    "10 45 0.00000000 , 2410.512326,22043.118635,14614.005543    ,577.445165\n",
    "10 30 0.00000000 , 3299.994549,23294.509374,12297.196678  ,577.441900\n",
    "10 15 0.00000000 , 3995.214624,24348.276586,9768.446681  ,577.438634\n",
    "10 0 0.00000000 , 4515.588357,25166.028651,7071.147424  ,577.435389\n",
    "9 45 0.00000000 , 4887.428596,25715.425240,4251.707854  ,577.432105\n",
    "9 30 0.00000000 , 5142.736708, 25971.449758, 1358.755931  ,577.428825\n",
    "9 15 0.00000000 , 5317.767894, 25917.413441, -1557.705986  ,577.425556\n",
    "9 0 0.00000000 , 5451.426423,25545.649841,-4447.177167  ,577.422289\n",
    "8 45 0.00000000 , 5583.554251,24857.870396,-7259.549756  ,577.419003\n",
    "8 30 0.00000000 , 5753.181306,23865.165209,-9945.998220  ,577.415707\n",
    "''')\n",
    "\n",
    "G11_t_x_y_z_correct = StringIO('''\n",
    "10 45 0.00000000 , 11917.794062 , 23687.004644 ,   1836.559085 , -117.548696\n",
    "10 30 0.00000000 ,  12152.518761,  23615.400800 ,  -1025.035522,-117.538965\n",
    "10 15 0.00000000 , 12258.490409 , 23261.665166 ,  -3869.022426 ,-117.529230\n",
    "10 0 0.00000000 , 12272.055420  ,22615.762604  , -6646.542544, -117.519503\n",
    "9 45 0.00000000 , 12231.496244  ,21676.324708  , -9309.861176, -117.509796\n",
    "9 30 0.00000000 , 12175.388352  ,20450.818255  ,-11813.185945, -117.500047\n",
    "9 15 0.00000000 , 12140.952623  ,18955.383870  ,-14113.452638, -117.490327\n",
    "9 0 0.00000000 , 12162.467222 , 17214.350343, -16171.065529,  -117.480625\n",
    "8 45 0.00000000 , 12269.800890 , 15259.442418, -17950.579469, -117.470932\n",
    "8 30 0.00000000 , 12487.124925 , 13128.711717 ,-19421.312017  , -117.461205\n",
    "''')\n",
    "\n",
    "apporx_reciever_coords = [4239146.6414,  2886967.1245,  3778874.4800]\n"
   ]
  },
  {
   "cell_type": "code",
   "execution_count": 12,
   "metadata": {},
   "outputs": [],
   "source": [
    "def sat_pos(trec, pc ,sp3, r_apr):\n",
    "    \n",
    "    df = pd.read_csv(sp3, sep =\",\", names=['epoch','X','Y','Z','correction'])\n",
    "\n",
    "    def convert_to_daysec(data,item):\n",
    "\n",
    "        hour = float(data['epoch'][item].split(sep=' ')[0]) * 60 *60\n",
    "        minute = float(data['epoch'][item].split(sep=' ')[1]) * 60 \n",
    "        second = float(data['epoch'][item].split(sep=' ')[2])\n",
    "\n",
    "        return hour + minute + second\n",
    "\n",
    "    try: \n",
    "        for item in range(len(df)):\n",
    "            df['epoch'][item] = convert_to_daysec(df,item)\n",
    "\n",
    "    except : AttributeError\n",
    "\n",
    "    def lagrange_interp(x, y, xi):\n",
    "\n",
    "        n = len(x)\n",
    "        w = np.zeros(n)\n",
    "        yi = 0.0\n",
    "\n",
    "        for i in range(n):\n",
    "            w[i] = np.prod([(xi - x[j])/(x[i] - x[j]) for j in range(n) if j != i])\n",
    "            yi += w[i]*y[i]\n",
    "\n",
    "        return yi\n",
    "\n",
    "    X_LG = lagrange_interp(df['epoch'],df['X'],trec)\n",
    "    Y_LG = lagrange_interp(df['epoch'],df['Y'],trec)\n",
    "    Z_LG = lagrange_interp(df['epoch'],df['Z'],trec)\n",
    "\n",
    "    dT_precise = math.sqrt((X_LG-r_apr[0])**2 + (Y_LG-r_apr[1])**2 + (Z_LG-r_apr[2])**2)/C\n",
    "\n",
    "    def determine_rotation_matrices(angle , axis):\n",
    "        \n",
    "        if axis == 1:\n",
    "            rotation_matrices = np.array([[1 , 0 , 0], [0 , math.cos(angle) ,math.sin(angle)],[0 , -math.sin(angle),math.cos(angle)]])\n",
    "\n",
    "            return rotation_matrices\n",
    "\n",
    "        elif axis == 2:\n",
    "            rotation_matrices = np.array([[math.cos(angle),0,-math.sin(angle)], [0,1,0], [math.sin(angle),0, math.cos(angle)]])\n",
    "\n",
    "            return rotation_matrices\n",
    "\n",
    "        elif axis == 3:\n",
    "            rotation_matrices = np.array([[math.cos(angle),math.sin(angle),0], [-math.sin(angle),math.cos(angle),0], [0,0,1]])\n",
    "\n",
    "            return rotation_matrices\n",
    "\n",
    "    def rotation(vector,angle,axis):\n",
    "        \n",
    "        if vector.shape == (3,) :\n",
    "            vector = np.transpose(vector)\n",
    "            rotation_matrix = determine_rotation_matrices(angle,axis)\n",
    "\n",
    "            return (np.dot(vector,rotation_matrix))\n",
    "\n",
    "        else:\n",
    "            rotation_matrix = determine_rotation_matrices(angle,axis)\n",
    "\n",
    "            return (np.dot(vector,rotation_matrix))\n",
    "        \n",
    "    ecef_cords = rotation(np.array((X_LG,Y_LG,Z_LG)),(wE * dT_precise),3)\n",
    "\n",
    "    print(ecef_cords)\n"
   ]
  },
  {
   "cell_type": "code",
   "execution_count": 15,
   "metadata": {},
   "outputs": [
    {
     "name": "stdout",
     "output_type": "stream",
     "text": [
      "[ 5265.95215112 25970.54010524  -586.30504194]\n"
     ]
    }
   ],
   "source": [
    "sat_pos(emist_06,pseudorange_g06,G06_t_x_y_z_correct,apporx_reciever_coords)"
   ]
  },
  {
   "cell_type": "code",
   "execution_count": 17,
   "metadata": {},
   "outputs": [
    {
     "name": "stdout",
     "output_type": "stream",
     "text": [
      "[ 12147.79716274  19482.39102055 -13371.98981999]\n"
     ]
    }
   ],
   "source": [
    "sat_pos(emist_11,pseudorange_g011,G11_t_x_y_z_correct,apporx_reciever_coords)"
   ]
  },
  {
   "cell_type": "code",
   "execution_count": null,
   "metadata": {},
   "outputs": [],
   "source": []
  }
 ],
 "metadata": {
  "kernelspec": {
   "display_name": "base",
   "language": "python",
   "name": "python3"
  },
  "language_info": {
   "codemirror_mode": {
    "name": "ipython",
    "version": 3
   },
   "file_extension": ".py",
   "mimetype": "text/x-python",
   "name": "python",
   "nbconvert_exporter": "python",
   "pygments_lexer": "ipython3",
   "version": "3.9.7"
  },
  "orig_nbformat": 4
 },
 "nbformat": 4,
 "nbformat_minor": 2
}
